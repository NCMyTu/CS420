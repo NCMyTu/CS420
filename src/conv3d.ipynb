{
 "cells": [
  {
   "cell_type": "code",
   "execution_count": 1,
   "metadata": {
    "execution": {
     "iopub.execute_input": "2025-01-14T09:23:33.604830Z",
     "iopub.status.busy": "2025-01-14T09:23:33.604478Z",
     "iopub.status.idle": "2025-01-14T09:23:47.885470Z",
     "shell.execute_reply": "2025-01-14T09:23:47.884786Z",
     "shell.execute_reply.started": "2025-01-14T09:23:33.604787Z"
    }
   },
   "outputs": [],
   "source": [
    "import numpy as np\n",
    "import tensorflow as tf\n",
    "from tensorflow.keras import models, Sequential\n",
    "from tensorflow.keras.optimizers import SGD, Adam, Lion\n",
    "from tensorflow.keras.layers import Dense, Flatten, InputLayer, Dropout, Conv3D, BatchNormalization, MaxPooling3D\n",
    "from tensorflow.keras.utils import to_categorical\n",
    "from tensorflow.keras.callbacks import EarlyStopping, ReduceLROnPlateau\n",
    "from sklearn.model_selection import train_test_split"
   ]
  },
  {
   "cell_type": "code",
   "execution_count": 2,
   "metadata": {
    "execution": {
     "iopub.execute_input": "2025-01-14T09:23:53.974369Z",
     "iopub.status.busy": "2025-01-14T09:23:53.973533Z",
     "iopub.status.idle": "2025-01-14T09:23:53.981814Z",
     "shell.execute_reply": "2025-01-14T09:23:53.980889Z",
     "shell.execute_reply.started": "2025-01-14T09:23:53.974320Z"
    }
   },
   "outputs": [],
   "source": [
    "def create_c3d(input_shape=(16, 64, 64, 3), n_classes=2):\n",
    "    model = Sequential(\n",
    "        [\n",
    "        Conv3D(filters=32, kernel_size=3, activation='relu', padding='same', input_shape=input_shape),\n",
    "        BatchNormalization(),\n",
    "        MaxPooling3D(pool_size=2),\n",
    "    \n",
    "        Conv3D(filters=64, kernel_size=3, activation='relu', padding='same'),\n",
    "        BatchNormalization(),\n",
    "        MaxPooling3D(pool_size=2),\n",
    "    \n",
    "        Conv3D(filters=128, kernel_size=3, activation='relu', padding='same'),\n",
    "        BatchNormalization(),\n",
    "        MaxPooling3D(pool_size=2),\n",
    "    \n",
    "        Flatten(),\n",
    "        Dense(256, activation='relu'),\n",
    "        Dropout(0.5),\n",
    "        Dense(n_classes, activation='softmax')\n",
    "        ]\n",
    "    )\n",
    "\n",
    "    return model"
   ]
  },
  {
   "cell_type": "code",
   "execution_count": 3,
   "metadata": {
    "execution": {
     "iopub.execute_input": "2025-01-14T09:23:56.338171Z",
     "iopub.status.busy": "2025-01-14T09:23:56.337541Z",
     "iopub.status.idle": "2025-01-14T09:24:10.489027Z",
     "shell.execute_reply": "2025-01-14T09:24:10.488214Z",
     "shell.execute_reply.started": "2025-01-14T09:23:56.338140Z"
    }
   },
   "outputs": [],
   "source": [
    "features_np = np.load(r\"/kaggle/input/video-feature-np/features.npy\")\n",
    "labels = np.load(r\"/kaggle/input/video-feature-np/labels.npy\")\n",
    "# video_files_paths = np.load(r\"/kaggle/input/video-feature-np/video_files_paths.npy\")"
   ]
  },
  {
   "cell_type": "code",
   "execution_count": 4,
   "metadata": {
    "execution": {
     "iopub.execute_input": "2025-01-14T09:24:44.369949Z",
     "iopub.status.busy": "2025-01-14T09:24:44.369479Z",
     "iopub.status.idle": "2025-01-14T09:24:44.374822Z",
     "shell.execute_reply": "2025-01-14T09:24:44.373776Z",
     "shell.execute_reply.started": "2025-01-14T09:24:44.369904Z"
    }
   },
   "outputs": [],
   "source": [
    "# convert labels into one-hot vectors\n",
    "encoded_labels = to_categorical(labels)"
   ]
  },
  {
   "cell_type": "code",
   "execution_count": 5,
   "metadata": {
    "execution": {
     "iopub.execute_input": "2025-01-14T09:24:45.657931Z",
     "iopub.status.busy": "2025-01-14T09:24:45.657368Z",
     "iopub.status.idle": "2025-01-14T09:24:46.830532Z",
     "shell.execute_reply": "2025-01-14T09:24:46.829596Z",
     "shell.execute_reply.started": "2025-01-14T09:24:45.657898Z"
    }
   },
   "outputs": [
    {
     "name": "stdout",
     "output_type": "stream",
     "text": [
      "(1400, 16, 64, 64, 3)\n",
      "(1400, 2)\n",
      "(300, 16, 64, 64, 3)\n",
      "(300, 2)\n",
      "(300, 16, 64, 64, 3)\n",
      "(300, 2)\n"
     ]
    }
   ],
   "source": [
    "x_train, x_temp, y_train, y_temp = train_test_split(features_np, \n",
    "                                                    encoded_labels,\n",
    "                                                    stratify=encoded_labels,\n",
    "                                                    test_size=0.3,\n",
    "                                                    shuffle=True, \n",
    "                                                    random_state=2)\n",
    "\n",
    "x_test, x_val, y_test, y_val = train_test_split(x_temp, \n",
    "                                                y_temp, \n",
    "                                                stratify=y_temp,\n",
    "                                                test_size=0.5,\n",
    "                                                shuffle=True, \n",
    "                                                random_state=2)\n",
    "print(x_train.shape)\n",
    "print(y_train.shape)\n",
    "print(x_val.shape)\n",
    "print(y_val.shape)\n",
    "print(x_test.shape)\n",
    "print(y_test.shape)"
   ]
  },
  {
   "cell_type": "code",
   "execution_count": 25,
   "metadata": {
    "execution": {
     "iopub.execute_input": "2025-01-14T09:49:11.514957Z",
     "iopub.status.busy": "2025-01-14T09:49:11.514604Z",
     "iopub.status.idle": "2025-01-14T09:50:18.533081Z",
     "shell.execute_reply": "2025-01-14T09:50:18.532181Z",
     "shell.execute_reply.started": "2025-01-14T09:49:11.514928Z"
    }
   },
   "outputs": [
    {
     "name": "stdout",
     "output_type": "stream",
     "text": [
      "Epoch 1/100\n",
      "\u001b[1m175/175\u001b[0m \u001b[32m━━━━━━━━━━━━━━━━━━━━\u001b[0m\u001b[37m\u001b[0m \u001b[1m10s\u001b[0m 35ms/step - accuracy: 0.4818 - loss: 2533.2776 - val_accuracy: 0.5067 - val_loss: 23914296.0000\n",
      "Epoch 2/100\n",
      "\u001b[1m175/175\u001b[0m \u001b[32m━━━━━━━━━━━━━━━━━━━━\u001b[0m\u001b[37m\u001b[0m \u001b[1m5s\u001b[0m 27ms/step - accuracy: 0.5473 - loss: 11556.2383 - val_accuracy: 0.5133 - val_loss: 2101052.0000\n",
      "Epoch 3/100\n",
      "\u001b[1m175/175\u001b[0m \u001b[32m━━━━━━━━━━━━━━━━━━━━\u001b[0m\u001b[37m\u001b[0m \u001b[1m5s\u001b[0m 27ms/step - accuracy: 0.5087 - loss: 3991.3860 - val_accuracy: 0.4333 - val_loss: 296645056.0000\n",
      "Epoch 4/100\n",
      "\u001b[1m175/175\u001b[0m \u001b[32m━━━━━━━━━━━━━━━━━━━━\u001b[0m\u001b[37m\u001b[0m \u001b[1m5s\u001b[0m 28ms/step - accuracy: 0.4613 - loss: 9452.8896 - val_accuracy: 0.5000 - val_loss: 39839028.0000\n",
      "Epoch 5/100\n",
      "\u001b[1m175/175\u001b[0m \u001b[32m━━━━━━━━━━━━━━━━━━━━\u001b[0m\u001b[37m\u001b[0m \u001b[1m5s\u001b[0m 28ms/step - accuracy: 0.5049 - loss: 0.7122 - val_accuracy: 0.4867 - val_loss: 14961108992.0000\n",
      "Epoch 6/100\n",
      "\u001b[1m175/175\u001b[0m \u001b[32m━━━━━━━━━━━━━━━━━━━━\u001b[0m\u001b[37m\u001b[0m \u001b[1m5s\u001b[0m 29ms/step - accuracy: 0.4875 - loss: 70811.1094 - val_accuracy: 0.5033 - val_loss: 3552761085952.0000\n",
      "Epoch 7/100\n",
      "\u001b[1m175/175\u001b[0m \u001b[32m━━━━━━━━━━━━━━━━━━━━\u001b[0m\u001b[37m\u001b[0m \u001b[1m5s\u001b[0m 28ms/step - accuracy: 0.5010 - loss: 0.7061 - val_accuracy: 0.4967 - val_loss: 33568298369024.0000\n",
      "Epoch 8/100\n",
      "\u001b[1m175/175\u001b[0m \u001b[32m━━━━━━━━━━━━━━━━━━━━\u001b[0m\u001b[37m\u001b[0m \u001b[1m5s\u001b[0m 29ms/step - accuracy: 0.5279 - loss: 126212.9766 - val_accuracy: 0.4967 - val_loss: 4120943788032.0000\n",
      "Epoch 9/100\n",
      "\u001b[1m175/175\u001b[0m \u001b[32m━━━━━━━━━━━━━━━━━━━━\u001b[0m\u001b[37m\u001b[0m \u001b[1m5s\u001b[0m 28ms/step - accuracy: 0.4976 - loss: 458068.0000 - val_accuracy: 0.4967 - val_loss: 4314986708992.0000\n",
      "Epoch 10/100\n",
      "\u001b[1m175/175\u001b[0m \u001b[32m━━━━━━━━━━━━━━━━━━━━\u001b[0m\u001b[37m\u001b[0m \u001b[1m5s\u001b[0m 28ms/step - accuracy: 0.5192 - loss: 522045.5312 - val_accuracy: 0.4967 - val_loss: 317016276992.0000\n",
      "Epoch 11/100\n",
      "\u001b[1m175/175\u001b[0m \u001b[32m━━━━━━━━━━━━━━━━━━━━\u001b[0m\u001b[37m\u001b[0m \u001b[1m5s\u001b[0m 28ms/step - accuracy: 0.4832 - loss: 0.7099 - val_accuracy: 0.5000 - val_loss: 262729531392.0000\n",
      "Epoch 12/100\n",
      "\u001b[1m175/175\u001b[0m \u001b[32m━━━━━━━━━━━━━━━━━━━━\u001b[0m\u001b[37m\u001b[0m \u001b[1m5s\u001b[0m 28ms/step - accuracy: 0.5145 - loss: 1026781.8750 - val_accuracy: 0.5000 - val_loss: 23430520832.0000\n"
     ]
    },
    {
     "data": {
      "text/plain": [
       "<keras.src.callbacks.history.History at 0x7ccb84230e50>"
      ]
     },
     "execution_count": 25,
     "metadata": {},
     "output_type": "execute_result"
    }
   ],
   "source": [
    "early_stopping = EarlyStopping(monitor=\"val_accuracy\", \n",
    "                                patience=10, \n",
    "                                restore_best_weights=True)\n",
    "\n",
    "model = create_c3d()\n",
    "\n",
    "model.compile(loss=\"categorical_crossentropy\",\n",
    "               optimizer=Lion(learning_rate=0.1), \n",
    "               metrics=[\"accuracy\"])\n",
    "\n",
    "model.fit(x_train, y_train, \n",
    "          epochs=100,\n",
    "          batch_size=8,\n",
    "          shuffle=True,\n",
    "          validation_data=(x_val, y_val),\n",
    "          callbacks=[early_stopping])"
   ]
  },
  {
   "cell_type": "code",
   "execution_count": 26,
   "metadata": {
    "execution": {
     "iopub.execute_input": "2025-01-14T09:50:18.535007Z",
     "iopub.status.busy": "2025-01-14T09:50:18.534627Z",
     "iopub.status.idle": "2025-01-14T09:50:20.118537Z",
     "shell.execute_reply": "2025-01-14T09:50:20.117804Z",
     "shell.execute_reply.started": "2025-01-14T09:50:18.534968Z"
    }
   },
   "outputs": [
    {
     "name": "stdout",
     "output_type": "stream",
     "text": [
      "\u001b[1m10/10\u001b[0m \u001b[32m━━━━━━━━━━━━━━━━━━━━\u001b[0m\u001b[37m\u001b[0m \u001b[1m1s\u001b[0m 58ms/step - accuracy: 0.5398 - loss: 614032.9375\n",
      "0.5100\n"
     ]
    }
   ],
   "source": [
    "acc = model.evaluate(x_test, y_test)[1]\n",
    "print(f\"{acc:.4f}\")"
   ]
  },
  {
   "cell_type": "code",
   "execution_count": 8,
   "metadata": {
    "execution": {
     "iopub.execute_input": "2024-12-20T02:41:34.836926Z",
     "iopub.status.busy": "2024-12-20T02:41:34.836238Z",
     "iopub.status.idle": "2024-12-20T02:41:34.938836Z",
     "shell.execute_reply": "2024-12-20T02:41:34.937847Z",
     "shell.execute_reply.started": "2024-12-20T02:41:34.836892Z"
    }
   },
   "outputs": [],
   "source": [
    "model.save(\"c3d.keras\")"
   ]
  }
 ],
 "metadata": {
  "kaggle": {
   "accelerator": "nvidiaTeslaT4",
   "dataSources": [
    {
     "datasetId": 5971973,
     "sourceId": 9753731,
     "sourceType": "datasetVersion"
    },
    {
     "datasetId": 6320476,
     "sourceId": 10230880,
     "sourceType": "datasetVersion"
    }
   ],
   "dockerImageVersionId": 30805,
   "isGpuEnabled": true,
   "isInternetEnabled": true,
   "language": "python",
   "sourceType": "notebook"
  },
  "kernelspec": {
   "display_name": "Python 3 (ipykernel)",
   "language": "python",
   "name": "python3"
  },
  "language_info": {
   "codemirror_mode": {
    "name": "ipython",
    "version": 3
   },
   "file_extension": ".py",
   "mimetype": "text/x-python",
   "name": "python",
   "nbconvert_exporter": "python",
   "pygments_lexer": "ipython3",
   "version": "3.12.3"
  }
 },
 "nbformat": 4,
 "nbformat_minor": 4
}
